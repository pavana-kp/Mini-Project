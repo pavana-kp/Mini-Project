{
  "nbformat": 4,
  "nbformat_minor": 0,
  "metadata": {
    "colab": {
      "name": "pavanaminiprojectml.ipynb",
      "provenance": [],
      "authorship_tag": "ABX9TyMolgCSczQ15/AZEvfGHiSZ",
      "include_colab_link": true
    },
    "kernelspec": {
      "name": "python3",
      "display_name": "Python 3"
    },
    "language_info": {
      "name": "python"
    }
  },
  "cells": [
    {
      "cell_type": "markdown",
      "metadata": {
        "id": "view-in-github",
        "colab_type": "text"
      },
      "source": [
        "<a href=\"https://colab.research.google.com/github/pavana-kp/Mini-Project/blob/main/pavanaminiprojectml.ipynb\" target=\"_parent\"><img src=\"https://colab.research.google.com/assets/colab-badge.svg\" alt=\"Open In Colab\"/></a>"
      ]
    },
    {
      "cell_type": "code",
      "metadata": {
        "colab": {
          "base_uri": "https://localhost:8080/"
        },
        "id": "p4o4JHTinuiX",
        "outputId": "fe256aad-2d98-4e06-df15-ffea25d5fde9"
      },
      "source": [
        "!pip install ipython-autotime\n",
        "%load_ext autotime"
      ],
      "execution_count": 1,
      "outputs": [
        {
          "output_type": "stream",
          "text": [
            "Collecting ipython-autotime\n",
            "  Downloading https://files.pythonhosted.org/packages/b4/c9/b413a24f759641bc27ef98c144b590023c8038dfb8a3f09e713e9dff12c1/ipython_autotime-0.3.1-py2.py3-none-any.whl\n",
            "Requirement already satisfied: ipython in /usr/local/lib/python3.7/dist-packages (from ipython-autotime) (5.5.0)\n",
            "Requirement already satisfied: traitlets>=4.2 in /usr/local/lib/python3.7/dist-packages (from ipython->ipython-autotime) (5.0.5)\n",
            "Requirement already satisfied: simplegeneric>0.8 in /usr/local/lib/python3.7/dist-packages (from ipython->ipython-autotime) (0.8.1)\n",
            "Requirement already satisfied: pexpect; sys_platform != \"win32\" in /usr/local/lib/python3.7/dist-packages (from ipython->ipython-autotime) (4.8.0)\n",
            "Requirement already satisfied: prompt-toolkit<2.0.0,>=1.0.4 in /usr/local/lib/python3.7/dist-packages (from ipython->ipython-autotime) (1.0.18)\n",
            "Requirement already satisfied: pygments in /usr/local/lib/python3.7/dist-packages (from ipython->ipython-autotime) (2.6.1)\n",
            "Requirement already satisfied: setuptools>=18.5 in /usr/local/lib/python3.7/dist-packages (from ipython->ipython-autotime) (56.1.0)\n",
            "Requirement already satisfied: pickleshare in /usr/local/lib/python3.7/dist-packages (from ipython->ipython-autotime) (0.7.5)\n",
            "Requirement already satisfied: decorator in /usr/local/lib/python3.7/dist-packages (from ipython->ipython-autotime) (4.4.2)\n",
            "Requirement already satisfied: ipython-genutils in /usr/local/lib/python3.7/dist-packages (from traitlets>=4.2->ipython->ipython-autotime) (0.2.0)\n",
            "Requirement already satisfied: ptyprocess>=0.5 in /usr/local/lib/python3.7/dist-packages (from pexpect; sys_platform != \"win32\"->ipython->ipython-autotime) (0.7.0)\n",
            "Requirement already satisfied: wcwidth in /usr/local/lib/python3.7/dist-packages (from prompt-toolkit<2.0.0,>=1.0.4->ipython->ipython-autotime) (0.2.5)\n",
            "Requirement already satisfied: six>=1.9.0 in /usr/local/lib/python3.7/dist-packages (from prompt-toolkit<2.0.0,>=1.0.4->ipython->ipython-autotime) (1.15.0)\n",
            "Installing collected packages: ipython-autotime\n",
            "Successfully installed ipython-autotime-0.3.1\n",
            "time: 805 µs (started: 2021-05-24 13:49:13 +00:00)\n"
          ],
          "name": "stdout"
        }
      ]
    },
    {
      "cell_type": "code",
      "metadata": {
        "colab": {
          "base_uri": "https://localhost:8080/"
        },
        "id": "WKdeMQS6oX76",
        "outputId": "1187958c-5db8-4dac-af0c-57f588a784b3"
      },
      "source": [
        "!pip install bing_image_downloader\n"
      ],
      "execution_count": 2,
      "outputs": [
        {
          "output_type": "stream",
          "text": [
            "Collecting bing_image_downloader\n",
            "  Downloading https://files.pythonhosted.org/packages/0d/bf/537a61030b84ae4cd5022d5c7b014fd9bc3ce7c02358919153a6658a61d3/bing_image_downloader-1.0.4-py3-none-any.whl\n",
            "Installing collected packages: bing-image-downloader\n",
            "Successfully installed bing-image-downloader-1.0.4\n",
            "time: 3.24 s (started: 2021-05-24 13:49:22 +00:00)\n"
          ],
          "name": "stdout"
        }
      ]
    },
    {
      "cell_type": "code",
      "metadata": {
        "colab": {
          "base_uri": "https://localhost:8080/"
        },
        "id": "MZ9mfJx1o1pF",
        "outputId": "a120c18a-1df9-4dfb-9c33-d9469a8d5911"
      },
      "source": [
        "!mkdir images"
      ],
      "execution_count": 3,
      "outputs": [
        {
          "output_type": "stream",
          "text": [
            "time: 128 ms (started: 2021-05-24 13:49:52 +00:00)\n"
          ],
          "name": "stdout"
        }
      ]
    },
    {
      "cell_type": "code",
      "metadata": {
        "colab": {
          "base_uri": "https://localhost:8080/"
        },
        "id": "PKJXiYTKo6P7",
        "outputId": "5e7014a6-155a-4134-be52-5b8a16f6b4f9"
      },
      "source": [
        "from bing_image_downloader import downloader\n",
        "downloader.download(\"lavender\",limit=40,output_dir='images',adult_filter_off=True)"
      ],
      "execution_count": 43,
      "outputs": [
        {
          "output_type": "stream",
          "text": [
            "\n",
            "\n",
            "[!!]Indexing page: 1\n",
            "\n",
            "[%] Indexed 6 Images on Page 1.\n",
            "\n",
            "===============================================\n",
            "\n",
            "[%] Downloading Image #1 from https://www.hdwallpapers.in/download/lupine_lavender_flowers_during_sun_rise_california_hd_flowers-1920x1080.jpg\n",
            "[%] File Downloaded !\n",
            "\n",
            "[%] Downloading Image #2 from https://sieuimba.com/wp-content/uploads/2015/10/57.jpg\n",
            "[%] File Downloaded !\n",
            "\n",
            "[%] Downloading Image #3 from http://www.bouquetweddingflower.com/wp-content/uploads/2012/12/lavender-herb-bouquet.jpg?936291\n",
            "[%] File Downloaded !\n",
            "\n",
            "[%] Downloading Image #4 from https://images.designtrends.com/wp-content/uploads/2016/03/04090718/Well-Purple-Bathroom-Design.jpg\n",
            "[%] File Downloaded !\n",
            "\n",
            "[%] Downloading Image #5 from https://cdn.weddingbee.com/pics/192437/bcd6e82a28d54162844f0f7a6a12e9d9--wedding-cake-icing-lavender-wedding-cakes.jpg\n",
            "[%] File Downloaded !\n",
            "\n",
            "[%] Downloading Image #6 from https://cdn.weddingbee.com/pics/192437/aubergine-560x859.jpg\n",
            "[%] File Downloaded !\n",
            "\n",
            "\n",
            "\n",
            "[!!]Indexing page: 2\n",
            "\n",
            "[%] Indexed 6 Images on Page 2.\n",
            "\n",
            "===============================================\n",
            "\n",
            "[%] Downloading Image #7 from https://www.hdwallpapers.in/download/lupine_lavender_flowers_during_sun_rise_california_hd_flowers-1920x1080.jpg\n",
            "[%] File Downloaded !\n",
            "\n",
            "[%] Downloading Image #8 from https://sieuimba.com/wp-content/uploads/2015/10/57.jpg\n",
            "[%] File Downloaded !\n",
            "\n",
            "[%] Downloading Image #9 from http://www.bouquetweddingflower.com/wp-content/uploads/2012/12/lavender-herb-bouquet.jpg?936291\n",
            "[%] File Downloaded !\n",
            "\n",
            "[%] Downloading Image #10 from https://images.designtrends.com/wp-content/uploads/2016/03/04090718/Well-Purple-Bathroom-Design.jpg\n",
            "[%] File Downloaded !\n",
            "\n",
            "[%] Downloading Image #11 from https://cdn.weddingbee.com/pics/192437/bcd6e82a28d54162844f0f7a6a12e9d9--wedding-cake-icing-lavender-wedding-cakes.jpg\n",
            "[%] File Downloaded !\n",
            "\n",
            "[%] Downloading Image #12 from https://cdn.weddingbee.com/pics/192437/aubergine-560x859.jpg\n",
            "[%] File Downloaded !\n",
            "\n",
            "\n",
            "\n",
            "[!!]Indexing page: 3\n",
            "\n",
            "[%] Indexed 5 Images on Page 3.\n",
            "\n",
            "===============================================\n",
            "\n",
            "[%] Downloading Image #13 from http://www.bouquetweddingflower.com/wp-content/uploads/2012/12/lavender-herb-bouquet.jpg?936291\n",
            "[%] File Downloaded !\n",
            "\n",
            "[%] Downloading Image #14 from https://images.designtrends.com/wp-content/uploads/2016/03/04090718/Well-Purple-Bathroom-Design.jpg\n",
            "[%] File Downloaded !\n",
            "\n",
            "[%] Downloading Image #15 from https://cdn.weddingbee.com/pics/192437/bcd6e82a28d54162844f0f7a6a12e9d9--wedding-cake-icing-lavender-wedding-cakes.jpg\n",
            "[%] File Downloaded !\n",
            "\n",
            "[%] Downloading Image #16 from https://cdn.weddingbee.com/pics/192437/aubergine-560x859.jpg\n",
            "[%] File Downloaded !\n",
            "\n",
            "[%] Downloading Image #17 from https://sieuimba.com/wp-content/uploads/2015/10/57.jpg\n",
            "[%] File Downloaded !\n",
            "\n",
            "\n",
            "\n",
            "[!!]Indexing page: 4\n",
            "\n",
            "[%] Indexed 4 Images on Page 4.\n",
            "\n",
            "===============================================\n",
            "\n",
            "[%] Downloading Image #18 from https://images.designtrends.com/wp-content/uploads/2016/03/04090718/Well-Purple-Bathroom-Design.jpg\n",
            "[%] File Downloaded !\n",
            "\n",
            "[%] Downloading Image #19 from https://cdn.weddingbee.com/pics/192437/bcd6e82a28d54162844f0f7a6a12e9d9--wedding-cake-icing-lavender-wedding-cakes.jpg\n",
            "[%] File Downloaded !\n",
            "\n",
            "[%] Downloading Image #20 from https://cdn.weddingbee.com/pics/192437/aubergine-560x859.jpg\n",
            "[%] File Downloaded !\n",
            "\n",
            "[%] Downloading Image #21 from https://sieuimba.com/wp-content/uploads/2015/10/57.jpg\n",
            "[%] File Downloaded !\n",
            "\n",
            "\n",
            "\n",
            "[!!]Indexing page: 5\n",
            "\n",
            "[%] Indexed 3 Images on Page 5.\n",
            "\n",
            "===============================================\n",
            "\n",
            "[%] Downloading Image #22 from https://cdn.weddingbee.com/pics/192437/bcd6e82a28d54162844f0f7a6a12e9d9--wedding-cake-icing-lavender-wedding-cakes.jpg\n",
            "[%] File Downloaded !\n",
            "\n",
            "[%] Downloading Image #23 from https://cdn.weddingbee.com/pics/192437/aubergine-560x859.jpg\n",
            "[%] File Downloaded !\n",
            "\n",
            "[%] Downloading Image #24 from https://sieuimba.com/wp-content/uploads/2015/10/57.jpg\n",
            "[%] File Downloaded !\n",
            "\n",
            "\n",
            "\n",
            "[!!]Indexing page: 6\n",
            "\n",
            "[%] Indexed 2 Images on Page 6.\n",
            "\n",
            "===============================================\n",
            "\n",
            "[%] Downloading Image #25 from https://cdn.weddingbee.com/pics/192437/aubergine-560x859.jpg\n",
            "[%] File Downloaded !\n",
            "\n",
            "[%] Downloading Image #26 from https://sieuimba.com/wp-content/uploads/2015/10/57.jpg\n",
            "[%] File Downloaded !\n",
            "\n",
            "\n",
            "\n",
            "[!!]Indexing page: 7\n",
            "\n",
            "[%] Indexed 1 Images on Page 7.\n",
            "\n",
            "===============================================\n",
            "\n",
            "[%] Downloading Image #27 from https://sieuimba.com/wp-content/uploads/2015/10/57.jpg\n",
            "[%] File Downloaded !\n",
            "\n",
            "\n",
            "\n",
            "[!!]Indexing page: 8\n",
            "\n",
            "[%] Indexed 6 Images on Page 8.\n",
            "\n",
            "===============================================\n",
            "\n",
            "[%] Downloading Image #28 from https://www.hdwallpapers.in/download/lupine_lavender_flowers_during_sun_rise_california_hd_flowers-1920x1080.jpg\n",
            "[%] File Downloaded !\n",
            "\n",
            "[%] Downloading Image #29 from https://sieuimba.com/wp-content/uploads/2015/10/57.jpg\n",
            "[%] File Downloaded !\n",
            "\n",
            "[%] Downloading Image #30 from http://www.bouquetweddingflower.com/wp-content/uploads/2012/12/lavender-herb-bouquet.jpg?936291\n",
            "[%] File Downloaded !\n",
            "\n",
            "[%] Downloading Image #31 from https://images.designtrends.com/wp-content/uploads/2016/03/04090718/Well-Purple-Bathroom-Design.jpg\n",
            "[%] File Downloaded !\n",
            "\n",
            "[%] Downloading Image #32 from https://cdn.weddingbee.com/pics/192437/bcd6e82a28d54162844f0f7a6a12e9d9--wedding-cake-icing-lavender-wedding-cakes.jpg\n",
            "[%] File Downloaded !\n",
            "\n",
            "[%] Downloading Image #33 from https://cdn.weddingbee.com/pics/192437/aubergine-560x859.jpg\n",
            "[%] File Downloaded !\n",
            "\n",
            "\n",
            "\n",
            "[!!]Indexing page: 9\n",
            "\n",
            "[%] Indexed 6 Images on Page 9.\n",
            "\n",
            "===============================================\n",
            "\n",
            "[%] Downloading Image #34 from https://www.hdwallpapers.in/download/lupine_lavender_flowers_during_sun_rise_california_hd_flowers-1920x1080.jpg\n",
            "[%] File Downloaded !\n",
            "\n",
            "[%] Downloading Image #35 from https://sieuimba.com/wp-content/uploads/2015/10/57.jpg\n",
            "[%] File Downloaded !\n",
            "\n",
            "[%] Downloading Image #36 from http://www.bouquetweddingflower.com/wp-content/uploads/2012/12/lavender-herb-bouquet.jpg?936291\n",
            "[%] File Downloaded !\n",
            "\n",
            "[%] Downloading Image #37 from https://images.designtrends.com/wp-content/uploads/2016/03/04090718/Well-Purple-Bathroom-Design.jpg\n",
            "[%] File Downloaded !\n",
            "\n",
            "[%] Downloading Image #38 from https://cdn.weddingbee.com/pics/192437/bcd6e82a28d54162844f0f7a6a12e9d9--wedding-cake-icing-lavender-wedding-cakes.jpg\n",
            "[%] File Downloaded !\n",
            "\n",
            "[%] Downloading Image #39 from https://cdn.weddingbee.com/pics/192437/aubergine-560x859.jpg\n",
            "[%] File Downloaded !\n",
            "\n",
            "\n",
            "\n",
            "[!!]Indexing page: 10\n",
            "\n",
            "[%] Indexed 6 Images on Page 10.\n",
            "\n",
            "===============================================\n",
            "\n",
            "[%] Downloading Image #40 from https://www.hdwallpapers.in/download/lupine_lavender_flowers_during_sun_rise_california_hd_flowers-1920x1080.jpg\n",
            "[%] File Downloaded !\n",
            "\n",
            "\n",
            "\n",
            "[%] Done. Downloaded 40 images.\n",
            "\n",
            "===============================================\n",
            "\n",
            "time: 32.2 s (started: 2021-05-24 16:00:58 +00:00)\n"
          ],
          "name": "stdout"
        }
      ]
    },
    {
      "cell_type": "code",
      "metadata": {
        "colab": {
          "base_uri": "https://localhost:8080/"
        },
        "id": "p_v2dBmozcRo",
        "outputId": "2b06711e-2d00-4a9d-a610-143376595951"
      },
      "source": [
        "from bing_image_downloader import downloader\n",
        "downloader.download(\"orchid\",limit=40,output_dir='images',adult_filter_off=True)"
      ],
      "execution_count": 6,
      "outputs": [
        {
          "output_type": "stream",
          "text": [
            "\n",
            "\n",
            "[!!]Indexing page: 1\n",
            "\n",
            "[%] Indexed 7 Images on Page 1.\n",
            "\n",
            "===============================================\n",
            "\n",
            "[%] Downloading Image #1 from http://www.orchids.com/Assets/ProductImages/NF2547_12b.jpg\n",
            "[%] File Downloaded !\n",
            "\n",
            "[%] Downloading Image #2 from https://bestanimations.com/Nature/Flora/orchids/orchid-flower-animated-gif-5.gif\n",
            "[%] File Downloaded !\n",
            "\n",
            "[%] Downloading Image #3 from https://www.bing.com/th/id/OGC.81e409f7f02aaaa9dd8bc2aafe2b8f40?pid=1.7&amp;rurl=https%3a%2f%2fbestanimations.com%2fNature%2fFlora%2forchids%2forchid-flower-animated-gif-5.gif&amp;ehk=upncEnmAF0IBR%2fcPFgwM4NaJTDWhKDKO22HXJ5e2UOI%3d\n",
            "[!] Issue getting: https://www.bing.com/th/id/OGC.81e409f7f02aaaa9dd8bc2aafe2b8f40?pid=1.7&amp;rurl=https%3a%2f%2fbestanimations.com%2fNature%2fFlora%2forchids%2forchid-flower-animated-gif-5.gif&amp;ehk=upncEnmAF0IBR%2fcPFgwM4NaJTDWhKDKO22HXJ5e2UOI%3d\n",
            "[!] Error:: HTTP Error 404: Not Found\n",
            "[%] Downloading Image #3 from http://www.littlebcakes.com/wp-content/uploads/2013/08/Owl-Birthday-Cake-Ideas.jpg\n",
            "[%] File Downloaded !\n",
            "\n",
            "[%] Downloading Image #4 from https://longwoodgardens.org/sites/default/files/highlight_images/56728_0.jpg\n",
            "[%] File Downloaded !\n",
            "\n",
            "[%] Downloading Image #5 from http://www.toxel.com/wp-content/uploads/2012/07/venrich11.jpg\n",
            "[%] File Downloaded !\n",
            "\n",
            "[%] Downloading Image #6 from https://cdn.shopify.com/s/files/1/1806/9149/products/IF_EDITS_159_of_341_1200x1200.jpg?v=1500411636\n",
            "[%] File Downloaded !\n",
            "\n",
            "\n",
            "\n",
            "[!!]Indexing page: 2\n",
            "\n",
            "[%] Indexed 5 Images on Page 2.\n",
            "\n",
            "===============================================\n",
            "\n",
            "[%] Downloading Image #7 from https://www.orchidsforum.com/data/attachment-files/2018/09/70705_7f77e0da202d0f9941c4d02ea39f6d57.jpg\n",
            "[%] File Downloaded !\n",
            "\n",
            "[%] Downloading Image #8 from https://i.ytimg.com/vi/CaQOWJF6kCY/maxresdefault.jpg\n",
            "[%] File Downloaded !\n",
            "\n",
            "[%] Downloading Image #9 from http://www.minnesotawildflowers.info/udata/r9ndp23q/pd/aplectrum-hyemale-8.jpg\n",
            "[%] File Downloaded !\n",
            "\n",
            "[%] Downloading Image #10 from http://www.divyavithika.com/wp-content/uploads/2015/06/Unique-cake-colors-30.5.jpg\n",
            "[%] File Downloaded !\n",
            "\n",
            "[%] Downloading Image #11 from http://www.littlebcakes.com/wp-content/uploads/2013/08/Owl-Birthday-Cake-Ideas-724x1024.jpg\n",
            "[%] File Downloaded !\n",
            "\n",
            "\n",
            "\n",
            "[!!]Indexing page: 3\n",
            "\n",
            "[%] Indexed 6 Images on Page 3.\n",
            "\n",
            "===============================================\n",
            "\n",
            "[%] Downloading Image #12 from https://bestanimations.com/Nature/Flora/orchids/orchid-flower-animated-gif-5.gif\n",
            "[%] File Downloaded !\n",
            "\n",
            "[%] Downloading Image #13 from https://www.bing.com/th/id/OGC.81e409f7f02aaaa9dd8bc2aafe2b8f40?pid=1.7&amp;rurl=https%3a%2f%2fbestanimations.com%2fNature%2fFlora%2forchids%2forchid-flower-animated-gif-5.gif&amp;ehk=upncEnmAF0IBR%2fcPFgwM4NaJTDWhKDKO22HXJ5e2UOI%3d\n",
            "[!] Issue getting: https://www.bing.com/th/id/OGC.81e409f7f02aaaa9dd8bc2aafe2b8f40?pid=1.7&amp;rurl=https%3a%2f%2fbestanimations.com%2fNature%2fFlora%2forchids%2forchid-flower-animated-gif-5.gif&amp;ehk=upncEnmAF0IBR%2fcPFgwM4NaJTDWhKDKO22HXJ5e2UOI%3d\n",
            "[!] Error:: HTTP Error 404: Not Found\n",
            "[%] Downloading Image #13 from http://www.littlebcakes.com/wp-content/uploads/2013/08/Owl-Birthday-Cake-Ideas.jpg\n",
            "[%] File Downloaded !\n",
            "\n",
            "[%] Downloading Image #14 from https://longwoodgardens.org/sites/default/files/highlight_images/56728_0.jpg\n",
            "[%] File Downloaded !\n",
            "\n",
            "[%] Downloading Image #15 from https://cdn.shopify.com/s/files/1/1806/9149/products/IF_EDITS_159_of_341_1200x1200.jpg?v=1500411636\n",
            "[%] File Downloaded !\n",
            "\n",
            "[%] Downloading Image #16 from http://www.toxel.com/wp-content/uploads/2012/07/venrich11.jpg\n",
            "[%] File Downloaded !\n",
            "\n",
            "\n",
            "\n",
            "[!!]Indexing page: 4\n",
            "\n",
            "[%] Indexed 4 Images on Page 4.\n",
            "\n",
            "===============================================\n",
            "\n",
            "[%] Downloading Image #17 from http://www.littlebcakes.com/wp-content/uploads/2013/08/Owl-Birthday-Cake-Ideas.jpg\n",
            "[%] File Downloaded !\n",
            "\n",
            "[%] Downloading Image #18 from https://longwoodgardens.org/sites/default/files/highlight_images/56728_0.jpg\n",
            "[%] File Downloaded !\n",
            "\n",
            "[%] Downloading Image #19 from https://cdn.shopify.com/s/files/1/1806/9149/products/IF_EDITS_159_of_341_1200x1200.jpg?v=1500411636\n",
            "[%] File Downloaded !\n",
            "\n",
            "[%] Downloading Image #20 from http://www.toxel.com/wp-content/uploads/2012/07/venrich11.jpg\n",
            "[%] File Downloaded !\n",
            "\n",
            "\n",
            "\n",
            "[!!]Indexing page: 5\n",
            "\n",
            "[%] Indexed 3 Images on Page 5.\n",
            "\n",
            "===============================================\n",
            "\n",
            "[%] Downloading Image #21 from https://longwoodgardens.org/sites/default/files/highlight_images/56728_0.jpg\n",
            "[%] File Downloaded !\n",
            "\n",
            "[%] Downloading Image #22 from https://cdn.shopify.com/s/files/1/1806/9149/products/IF_EDITS_159_of_341_1200x1200.jpg?v=1500411636\n",
            "[%] File Downloaded !\n",
            "\n",
            "[%] Downloading Image #23 from http://www.toxel.com/wp-content/uploads/2012/07/venrich11.jpg\n",
            "[%] File Downloaded !\n",
            "\n",
            "\n",
            "\n",
            "[!!]Indexing page: 6\n",
            "\n",
            "[%] Indexed 1 Images on Page 6.\n",
            "\n",
            "===============================================\n",
            "\n",
            "[%] Downloading Image #24 from https://img.xcitefun.net/users/2015/01/376733,xcitefun-black-flower-7.jpg\n",
            "[%] File Downloaded !\n",
            "\n",
            "\n",
            "\n",
            "[!!]Indexing page: 7\n",
            "\n",
            "[%] Indexed 5 Images on Page 7.\n",
            "\n",
            "===============================================\n",
            "\n",
            "[%] Downloading Image #25 from https://hortnews.extension.iastate.edu/files/article/images/dracula_orchid_ecuador.jpg\n",
            "[%] File Downloaded !\n",
            "\n",
            "[%] Downloading Image #26 from https://www.engaygedweddings.com/images-lgbt-weddings/hawaii-lgbt-weddings/purple-orchid-weddings/670-purple-orchid-weddings-purple-chair-decor.jpg\n",
            "[%] File Downloaded !\n",
            "\n",
            "[%] Downloading Image #27 from http://bricobistro.com/wp-content/uploads/2016/07/pot-orchidée10.jpg\n",
            "[!] Issue getting: http://bricobistro.com/wp-content/uploads/2016/07/pot-orchidée10.jpg\n",
            "[!] Error:: 'ascii' codec can't encode character '\\xe9' in position 42: ordinal not in range(128)\n",
            "[%] Downloading Image #27 from https://www.hochzeitsportal24.de/wp-content/uploads/688/Brautstrauss-Rosen-Orchideen.jpg\n",
            "[%] File Downloaded !\n",
            "\n",
            "[%] Downloading Image #28 from https://img.xcitefun.net/users/2015/01/376733,xcitefun-black-flower-7.jpg\n",
            "[%] File Downloaded !\n",
            "\n",
            "\n",
            "\n",
            "[!!]Indexing page: 8\n",
            "\n",
            "[%] Indexed 7 Images on Page 8.\n",
            "\n",
            "===============================================\n",
            "\n",
            "[%] Downloading Image #29 from http://www.orchids.com/Assets/ProductImages/NF2547_12b.jpg\n",
            "[%] File Downloaded !\n",
            "\n",
            "[%] Downloading Image #30 from https://bestanimations.com/Nature/Flora/orchids/orchid-flower-animated-gif-5.gif\n",
            "[%] File Downloaded !\n",
            "\n",
            "[%] Downloading Image #31 from https://www.bing.com/th/id/OGC.81e409f7f02aaaa9dd8bc2aafe2b8f40?pid=1.7&amp;rurl=https%3a%2f%2fbestanimations.com%2fNature%2fFlora%2forchids%2forchid-flower-animated-gif-5.gif&amp;ehk=upncEnmAF0IBR%2fcPFgwM4NaJTDWhKDKO22HXJ5e2UOI%3d\n",
            "[!] Issue getting: https://www.bing.com/th/id/OGC.81e409f7f02aaaa9dd8bc2aafe2b8f40?pid=1.7&amp;rurl=https%3a%2f%2fbestanimations.com%2fNature%2fFlora%2forchids%2forchid-flower-animated-gif-5.gif&amp;ehk=upncEnmAF0IBR%2fcPFgwM4NaJTDWhKDKO22HXJ5e2UOI%3d\n",
            "[!] Error:: HTTP Error 404: Not Found\n",
            "[%] Downloading Image #31 from http://www.littlebcakes.com/wp-content/uploads/2013/08/Owl-Birthday-Cake-Ideas.jpg\n",
            "[%] File Downloaded !\n",
            "\n",
            "[%] Downloading Image #32 from https://longwoodgardens.org/sites/default/files/highlight_images/56728_0.jpg\n",
            "[%] File Downloaded !\n",
            "\n",
            "[%] Downloading Image #33 from http://www.toxel.com/wp-content/uploads/2012/07/venrich11.jpg\n",
            "[%] File Downloaded !\n",
            "\n",
            "[%] Downloading Image #34 from https://cdn.shopify.com/s/files/1/1806/9149/products/IF_EDITS_159_of_341_1200x1200.jpg?v=1500411636\n",
            "[%] File Downloaded !\n",
            "\n",
            "\n",
            "\n",
            "[!!]Indexing page: 9\n",
            "\n",
            "[%] Indexed 7 Images on Page 9.\n",
            "\n",
            "===============================================\n",
            "\n",
            "[%] Downloading Image #35 from http://www.orchids.com/Assets/ProductImages/NF2547_12b.jpg\n",
            "[%] File Downloaded !\n",
            "\n",
            "[%] Downloading Image #36 from https://bestanimations.com/Nature/Flora/orchids/orchid-flower-animated-gif-5.gif\n",
            "[%] File Downloaded !\n",
            "\n",
            "[%] Downloading Image #37 from https://www.bing.com/th/id/OGC.81e409f7f02aaaa9dd8bc2aafe2b8f40?pid=1.7&amp;rurl=https%3a%2f%2fbestanimations.com%2fNature%2fFlora%2forchids%2forchid-flower-animated-gif-5.gif&amp;ehk=upncEnmAF0IBR%2fcPFgwM4NaJTDWhKDKO22HXJ5e2UOI%3d\n",
            "[!] Issue getting: https://www.bing.com/th/id/OGC.81e409f7f02aaaa9dd8bc2aafe2b8f40?pid=1.7&amp;rurl=https%3a%2f%2fbestanimations.com%2fNature%2fFlora%2forchids%2forchid-flower-animated-gif-5.gif&amp;ehk=upncEnmAF0IBR%2fcPFgwM4NaJTDWhKDKO22HXJ5e2UOI%3d\n",
            "[!] Error:: HTTP Error 404: Not Found\n",
            "[%] Downloading Image #37 from http://www.littlebcakes.com/wp-content/uploads/2013/08/Owl-Birthday-Cake-Ideas.jpg\n",
            "[%] File Downloaded !\n",
            "\n",
            "[%] Downloading Image #38 from https://longwoodgardens.org/sites/default/files/highlight_images/56728_0.jpg\n",
            "[%] File Downloaded !\n",
            "\n",
            "[%] Downloading Image #39 from http://www.toxel.com/wp-content/uploads/2012/07/venrich11.jpg\n",
            "[%] File Downloaded !\n",
            "\n",
            "[%] Downloading Image #40 from https://cdn.shopify.com/s/files/1/1806/9149/products/IF_EDITS_159_of_341_1200x1200.jpg?v=1500411636\n",
            "[%] File Downloaded !\n",
            "\n",
            "time: 18 s (started: 2021-05-24 14:37:10 +00:00)\n"
          ],
          "name": "stdout"
        }
      ]
    },
    {
      "cell_type": "code",
      "metadata": {
        "colab": {
          "base_uri": "https://localhost:8080/"
        },
        "id": "I7uyfaBszz-W",
        "outputId": "cc5ddecd-df78-4242-fa05-e5e0fb02cd5f"
      },
      "source": [
        "from bing_image_downloader import downloader\n",
        "downloader.download(\"tulips\",limit=40,output_dir='images',adult_filter_off=True)"
      ],
      "execution_count": 7,
      "outputs": [
        {
          "output_type": "stream",
          "text": [
            "\n",
            "\n",
            "[!!]Indexing page: 1\n",
            "\n",
            "[%] Indexed 6 Images on Page 1.\n",
            "\n",
            "===============================================\n",
            "\n",
            "[%] Downloading Image #1 from http://www.hdwallpapers.in/download/red_tulip_rain-1600x900.jpg\n",
            "[%] File Downloaded !\n",
            "\n",
            "[%] Downloading Image #2 from https://www.phipps.conservatory.org/images/made/assets/images/as_art_image/1983_Spring_East_1050_1607_29_s_c1.jpg\n",
            "[%] File Downloaded !\n",
            "\n",
            "[%] Downloading Image #3 from https://1075koolfm.com/wp-content/uploads/2017/04/a4df4dc41d66261f4a5d54b91973fa9d.jpg\n",
            "[%] File Downloaded !\n",
            "\n",
            "[%] Downloading Image #4 from https://www.hdwallpapers.in/download/sony_xperia_z_stock_blue_flower-1920x1080.jpg\n",
            "[%] File Downloaded !\n",
            "\n",
            "[%] Downloading Image #5 from https://wallpapershome.com/images/wallpapers/spring-flowers-1440x2560-4k-hd-wallpaper-summer-flowers-summer-sun-10140.jpg\n",
            "[%] File Downloaded !\n",
            "\n",
            "[%] Downloading Image #6 from https://www.hdwallpapers.in/download/closeup_photo_of_sunflower_with_shallow_focus_red_and_yellow_sky_during_sunset_4k_hd_flowers-1280x720.jpg\n",
            "[%] File Downloaded !\n",
            "\n",
            "\n",
            "\n",
            "[!!]Indexing page: 2\n",
            "\n",
            "[%] Indexed 6 Images on Page 2.\n",
            "\n",
            "===============================================\n",
            "\n",
            "[%] Downloading Image #7 from http://www.hdwallpapers.in/download/red_tulip_rain-1600x900.jpg\n",
            "[%] File Downloaded !\n",
            "\n",
            "[%] Downloading Image #8 from https://www.phipps.conservatory.org/images/made/assets/images/as_art_image/1983_Spring_East_1050_1607_29_s_c1.jpg\n",
            "[%] File Downloaded !\n",
            "\n",
            "[%] Downloading Image #9 from https://1075koolfm.com/wp-content/uploads/2017/04/a4df4dc41d66261f4a5d54b91973fa9d.jpg\n",
            "[%] File Downloaded !\n",
            "\n",
            "[%] Downloading Image #10 from https://www.hdwallpapers.in/download/sony_xperia_z_stock_blue_flower-1920x1080.jpg\n",
            "[%] File Downloaded !\n",
            "\n",
            "[%] Downloading Image #11 from https://wallpapershome.com/images/wallpapers/spring-flowers-1440x2560-4k-hd-wallpaper-summer-flowers-summer-sun-10140.jpg\n",
            "[%] File Downloaded !\n",
            "\n",
            "[%] Downloading Image #12 from https://www.hdwallpapers.in/download/closeup_photo_of_sunflower_with_shallow_focus_red_and_yellow_sky_during_sunset_4k_hd_flowers-1280x720.jpg\n",
            "[%] File Downloaded !\n",
            "\n",
            "\n",
            "\n",
            "[!!]Indexing page: 3\n",
            "\n",
            "[%] Indexed 5 Images on Page 3.\n",
            "\n",
            "===============================================\n",
            "\n",
            "[%] Downloading Image #13 from https://1075koolfm.com/wp-content/uploads/2017/04/a4df4dc41d66261f4a5d54b91973fa9d.jpg\n",
            "[%] File Downloaded !\n",
            "\n",
            "[%] Downloading Image #14 from https://www.hdwallpapers.in/download/sony_xperia_z_stock_blue_flower-1920x1080.jpg\n",
            "[%] File Downloaded !\n",
            "\n",
            "[%] Downloading Image #15 from https://wallpapershome.com/images/wallpapers/spring-flowers-1440x2560-4k-hd-wallpaper-summer-flowers-summer-sun-10140.jpg\n",
            "[%] File Downloaded !\n",
            "\n",
            "[%] Downloading Image #16 from https://www.hdwallpapers.in/download/closeup_photo_of_sunflower_with_shallow_focus_red_and_yellow_sky_during_sunset_4k_hd_flowers-1280x720.jpg\n",
            "[%] File Downloaded !\n",
            "\n",
            "[%] Downloading Image #17 from https://www.phipps.conservatory.org/images/made/assets/images/as_art_image/1983_Spring_East_1050_1607_29_s_c1.jpg\n",
            "[%] File Downloaded !\n",
            "\n",
            "\n",
            "\n",
            "[!!]Indexing page: 4\n",
            "\n",
            "[%] Indexed 4 Images on Page 4.\n",
            "\n",
            "===============================================\n",
            "\n",
            "[%] Downloading Image #18 from https://www.hdwallpapers.in/download/sony_xperia_z_stock_blue_flower-1920x1080.jpg\n",
            "[%] File Downloaded !\n",
            "\n",
            "[%] Downloading Image #19 from https://wallpapershome.com/images/wallpapers/spring-flowers-1440x2560-4k-hd-wallpaper-summer-flowers-summer-sun-10140.jpg\n",
            "[%] File Downloaded !\n",
            "\n",
            "[%] Downloading Image #20 from https://www.hdwallpapers.in/download/closeup_photo_of_sunflower_with_shallow_focus_red_and_yellow_sky_during_sunset_4k_hd_flowers-1280x720.jpg\n",
            "[%] File Downloaded !\n",
            "\n",
            "[%] Downloading Image #21 from https://www.phipps.conservatory.org/images/made/assets/images/as_art_image/1983_Spring_East_1050_1607_29_s_c1.jpg\n",
            "[%] File Downloaded !\n",
            "\n",
            "\n",
            "\n",
            "[!!]Indexing page: 5\n",
            "\n",
            "[%] Indexed 3 Images on Page 5.\n",
            "\n",
            "===============================================\n",
            "\n",
            "[%] Downloading Image #22 from https://wallpapershome.com/images/wallpapers/spring-flowers-1440x2560-4k-hd-wallpaper-summer-flowers-summer-sun-10140.jpg\n",
            "[%] File Downloaded !\n",
            "\n",
            "[%] Downloading Image #23 from https://www.hdwallpapers.in/download/closeup_photo_of_sunflower_with_shallow_focus_red_and_yellow_sky_during_sunset_4k_hd_flowers-1280x720.jpg\n",
            "[%] File Downloaded !\n",
            "\n",
            "[%] Downloading Image #24 from https://www.phipps.conservatory.org/images/made/assets/images/as_art_image/1983_Spring_East_1050_1607_29_s_c1.jpg\n",
            "[%] File Downloaded !\n",
            "\n",
            "\n",
            "\n",
            "[!!]Indexing page: 6\n",
            "\n",
            "[%] Indexed 2 Images on Page 6.\n",
            "\n",
            "===============================================\n",
            "\n",
            "[%] Downloading Image #25 from https://www.hdwallpapers.in/download/closeup_photo_of_sunflower_with_shallow_focus_red_and_yellow_sky_during_sunset_4k_hd_flowers-1280x720.jpg\n",
            "[%] File Downloaded !\n",
            "\n",
            "[%] Downloading Image #26 from https://www.phipps.conservatory.org/images/made/assets/images/as_art_image/1983_Spring_East_1050_1607_29_s_c1.jpg\n",
            "[%] File Downloaded !\n",
            "\n",
            "\n",
            "\n",
            "[!!]Indexing page: 7\n",
            "\n",
            "[%] Indexed 1 Images on Page 7.\n",
            "\n",
            "===============================================\n",
            "\n",
            "[%] Downloading Image #27 from https://www.phipps.conservatory.org/images/made/assets/images/as_art_image/1983_Spring_East_1050_1607_29_s_c1.jpg\n",
            "[%] File Downloaded !\n",
            "\n",
            "\n",
            "\n",
            "[!!]Indexing page: 8\n",
            "\n",
            "[%] Indexed 6 Images on Page 8.\n",
            "\n",
            "===============================================\n",
            "\n",
            "[%] Downloading Image #28 from http://www.hdwallpapers.in/download/red_tulip_rain-1600x900.jpg\n",
            "[%] File Downloaded !\n",
            "\n",
            "[%] Downloading Image #29 from https://www.phipps.conservatory.org/images/made/assets/images/as_art_image/1983_Spring_East_1050_1607_29_s_c1.jpg\n",
            "[%] File Downloaded !\n",
            "\n",
            "[%] Downloading Image #30 from https://1075koolfm.com/wp-content/uploads/2017/04/a4df4dc41d66261f4a5d54b91973fa9d.jpg\n",
            "[%] File Downloaded !\n",
            "\n",
            "[%] Downloading Image #31 from https://www.hdwallpapers.in/download/sony_xperia_z_stock_blue_flower-1920x1080.jpg\n",
            "[%] File Downloaded !\n",
            "\n",
            "[%] Downloading Image #32 from https://wallpapershome.com/images/wallpapers/spring-flowers-1440x2560-4k-hd-wallpaper-summer-flowers-summer-sun-10140.jpg\n",
            "[%] File Downloaded !\n",
            "\n",
            "[%] Downloading Image #33 from https://www.hdwallpapers.in/download/closeup_photo_of_sunflower_with_shallow_focus_red_and_yellow_sky_during_sunset_4k_hd_flowers-1280x720.jpg\n",
            "[%] File Downloaded !\n",
            "\n",
            "\n",
            "\n",
            "[!!]Indexing page: 9\n",
            "\n",
            "[%] Indexed 6 Images on Page 9.\n",
            "\n",
            "===============================================\n",
            "\n",
            "[%] Downloading Image #34 from http://www.hdwallpapers.in/download/red_tulip_rain-1600x900.jpg\n",
            "[%] File Downloaded !\n",
            "\n",
            "[%] Downloading Image #35 from https://www.phipps.conservatory.org/images/made/assets/images/as_art_image/1983_Spring_East_1050_1607_29_s_c1.jpg\n",
            "[%] File Downloaded !\n",
            "\n",
            "[%] Downloading Image #36 from https://1075koolfm.com/wp-content/uploads/2017/04/a4df4dc41d66261f4a5d54b91973fa9d.jpg\n",
            "[%] File Downloaded !\n",
            "\n",
            "[%] Downloading Image #37 from https://www.hdwallpapers.in/download/sony_xperia_z_stock_blue_flower-1920x1080.jpg\n",
            "[%] File Downloaded !\n",
            "\n",
            "[%] Downloading Image #38 from https://wallpapershome.com/images/wallpapers/spring-flowers-1440x2560-4k-hd-wallpaper-summer-flowers-summer-sun-10140.jpg\n",
            "[%] File Downloaded !\n",
            "\n",
            "[%] Downloading Image #39 from https://www.hdwallpapers.in/download/closeup_photo_of_sunflower_with_shallow_focus_red_and_yellow_sky_during_sunset_4k_hd_flowers-1280x720.jpg\n",
            "[%] File Downloaded !\n",
            "\n",
            "\n",
            "\n",
            "[!!]Indexing page: 10\n",
            "\n",
            "[%] Indexed 6 Images on Page 10.\n",
            "\n",
            "===============================================\n",
            "\n",
            "[%] Downloading Image #40 from http://www.hdwallpapers.in/download/red_tulip_rain-1600x900.jpg\n",
            "[%] File Downloaded !\n",
            "\n",
            "\n",
            "\n",
            "[%] Done. Downloaded 40 images.\n",
            "\n",
            "===============================================\n",
            "\n",
            "time: 16.5 s (started: 2021-05-24 14:38:01 +00:00)\n"
          ],
          "name": "stdout"
        }
      ]
    },
    {
      "cell_type": "code",
      "metadata": {
        "colab": {
          "base_uri": "https://localhost:8080/"
        },
        "id": "M00l6b3C0ES1",
        "outputId": "fc0e94ad-f880-4d75-c6fa-5571f811844a"
      },
      "source": [
        "import os\n",
        "import matplotlib.pyplot as plt\n",
        "import numpy as np\n",
        "from skimage.io import imread\n",
        "from skimage.transform import resize\n",
        "target = []\n",
        "images = []\n",
        "flat_data = []\n",
        "DATADIR = '/content/images'\n",
        "CATEGORIES = ['lavender','orchid','tulips']"
      ],
      "execution_count": 73,
      "outputs": [
        {
          "output_type": "stream",
          "text": [
            "time: 4.63 ms (started: 2021-05-24 16:21:24 +00:00)\n"
          ],
          "name": "stdout"
        }
      ]
    },
    {
      "cell_type": "code",
      "metadata": {
        "colab": {
          "base_uri": "https://localhost:8080/"
        },
        "id": "74Zr0RGd2FqN",
        "outputId": "cb6f480b-b29a-4447-98b2-72c2ea048a5b"
      },
      "source": [
        "for category in CATEGORIES:\n",
        "  class_num = CATEGORIES.index(category)\n",
        "  path=os.path.join(DATADIR,category)\n",
        "  for img in os.listdir(path):\n",
        "    img_array=imread(os.path.join(path,img))"
      ],
      "execution_count": 67,
      "outputs": [
        {
          "output_type": "stream",
          "text": [
            "time: 4.19 s (started: 2021-05-24 16:15:19 +00:00)\n"
          ],
          "name": "stdout"
        }
      ]
    },
    {
      "cell_type": "code",
      "metadata": {
        "id": "UJuARs10273H"
      },
      "source": [
        "import numpy as np\n",
        "img_resized= resize(img_array,(150,150,3))\n",
        "flat_data.append(img_resized.flatten())\n",
        "images.append(img_resized)\n",
        "target.append(class_num)\n",
        "flat_data=np.array(flat_data)\n",
        "target=np.array(target)\n",
        "images=np.array(images)"
      ],
      "execution_count": null,
      "outputs": []
    },
    {
      "cell_type": "code",
      "metadata": {
        "id": "eirUDszg4BHC"
      },
      "source": [
        "from sklearn.model_selection import train_test_split\n",
        "x_train, x_test, y_train, y_test = train_test_split(flat_data,target,test_size=0.3,random_state=100)"
      ],
      "execution_count": null,
      "outputs": []
    },
    {
      "cell_type": "code",
      "metadata": {
        "colab": {
          "base_uri": "https://localhost:8080/"
        },
        "id": "9Rv2LWlY4zRe",
        "outputId": "f3d6212c-e29d-4b45-adc8-94968910b037"
      },
      "source": [
        "from sklearn.model_selection import GridSearchCV\n",
        "from sklearn import svm\n",
        "param_grid =[\n",
        "             {'C':[1,10,100,1000],'kernel':['linear']},\n",
        "             {'C':[1,10,100,1000],'gamma':['0.001,0.0001'],'kernel':['rbf']},\n",
        "]"
      ],
      "execution_count": 69,
      "outputs": [
        {
          "output_type": "stream",
          "text": [
            "time: 4.71 ms (started: 2021-05-24 16:19:10 +00:00)\n"
          ],
          "name": "stdout"
        }
      ]
    },
    {
      "cell_type": "code",
      "metadata": {
        "id": "D-tGmo2i6jJa"
      },
      "source": [
        "svc = svm.SVC(probability=True)\n",
        "clf= GridSearchCV(svc,param_grid)\n",
        "clf.fit(x_train,y_train)\n",
        "y_pred=clf.predict(x_test)\n",
        "y_pred\n",
        "y_test\n",
        "from sklearn.metrics import accuracy_score,confusion_matrix\n",
        "accuracy_score(y_pred,y_test)\n",
        "confusion_matrix(y_pred,y_test) "
      ],
      "execution_count": null,
      "outputs": []
    },
    {
      "cell_type": "code",
      "metadata": {
        "colab": {
          "base_uri": "https://localhost:8080/"
        },
        "id": "0Ovh7c1M--vI",
        "outputId": "83e15886-7e21-41de-bfb5-4a44a2a0d819"
      },
      "source": [
        "import pickle\n",
        "pickle.dump(clf,open('img_model.p','wb'))\n",
        "model=pickle.load(open('img_model.p','rb'))"
      ],
      "execution_count": 26,
      "outputs": [
        {
          "output_type": "stream",
          "text": [
            "time: 4.5 ms (started: 2021-05-24 15:28:48 +00:00)\n"
          ],
          "name": "stdout"
        }
      ]
    },
    {
      "cell_type": "code",
      "metadata": {
        "colab": {
          "base_uri": "https://localhost:8080/",
          "height": 677
        },
        "id": "oRC-K4wN_kiD",
        "outputId": "63a780f5-a926-432b-b80f-5555bbb7ef0d"
      },
      "source": [
        "flat_data=[]\n",
        "url=input('Enter your URL')\n",
        "img = imread(url)\n",
        "img_resized=resize(img,(150,150,3))\n",
        "flat_data.append(img_resized.flatten())\n",
        "flat_data=np.array(flat_data)\n",
        "print(img.shape)\n",
        "plt.imshow(img_resized)\n",
        "y_out = model.predict(flat_data)\n",
        "y_out = CATEGORIES[y_out[0]]\n",
        "print(f'PREDICTED OUTPUT: {y_out}')"
      ],
      "execution_count": 41,
      "outputs": [
        {
          "output_type": "stream",
          "text": [
            "Enter your URLhttps://www.gardeningknowhow.com/wp-content/uploads/2009/10/tulips1.jpg\n",
            "(1385, 1386, 3)\n"
          ],
          "name": "stdout"
        },
        {
          "output_type": "error",
          "ename": "AttributeError",
          "evalue": "ignored",
          "traceback": [
            "\u001b[0;31m---------------------------------------------------------------------------\u001b[0m",
            "\u001b[0;31mAttributeError\u001b[0m                            Traceback (most recent call last)",
            "\u001b[0;32m<ipython-input-41-deb4b0d21056>\u001b[0m in \u001b[0;36m<module>\u001b[0;34m()\u001b[0m\n\u001b[1;32m      7\u001b[0m \u001b[0mprint\u001b[0m\u001b[0;34m(\u001b[0m\u001b[0mimg\u001b[0m\u001b[0;34m.\u001b[0m\u001b[0mshape\u001b[0m\u001b[0;34m)\u001b[0m\u001b[0;34m\u001b[0m\u001b[0;34m\u001b[0m\u001b[0m\n\u001b[1;32m      8\u001b[0m \u001b[0mplt\u001b[0m\u001b[0;34m.\u001b[0m\u001b[0mimshow\u001b[0m\u001b[0;34m(\u001b[0m\u001b[0mimg_resized\u001b[0m\u001b[0;34m)\u001b[0m\u001b[0;34m\u001b[0m\u001b[0;34m\u001b[0m\u001b[0m\n\u001b[0;32m----> 9\u001b[0;31m \u001b[0my_out\u001b[0m \u001b[0;34m=\u001b[0m \u001b[0mmodel\u001b[0m\u001b[0;34m.\u001b[0m\u001b[0mpredict\u001b[0m\u001b[0;34m(\u001b[0m\u001b[0mflat_data\u001b[0m\u001b[0;34m)\u001b[0m\u001b[0;34m\u001b[0m\u001b[0;34m\u001b[0m\u001b[0m\n\u001b[0m\u001b[1;32m     10\u001b[0m \u001b[0my_out\u001b[0m \u001b[0;34m=\u001b[0m \u001b[0mCATEGORIES\u001b[0m\u001b[0;34m[\u001b[0m\u001b[0my_out\u001b[0m\u001b[0;34m[\u001b[0m\u001b[0;36m0\u001b[0m\u001b[0;34m]\u001b[0m\u001b[0;34m]\u001b[0m\u001b[0;34m\u001b[0m\u001b[0;34m\u001b[0m\u001b[0m\n\u001b[1;32m     11\u001b[0m \u001b[0mprint\u001b[0m\u001b[0;34m(\u001b[0m\u001b[0;34mf'PREDICTED OUTPUT: {y_out}'\u001b[0m\u001b[0;34m)\u001b[0m\u001b[0;34m\u001b[0m\u001b[0;34m\u001b[0m\u001b[0m\n",
            "\u001b[0;32m/usr/local/lib/python3.7/dist-packages/sklearn/utils/metaestimators.py\u001b[0m in \u001b[0;36m<lambda>\u001b[0;34m(*args, **kwargs)\u001b[0m\n\u001b[1;32m    114\u001b[0m \u001b[0;34m\u001b[0m\u001b[0m\n\u001b[1;32m    115\u001b[0m         \u001b[0;31m# lambda, but not partial, allows help() to work with update_wrapper\u001b[0m\u001b[0;34m\u001b[0m\u001b[0;34m\u001b[0m\u001b[0;34m\u001b[0m\u001b[0m\n\u001b[0;32m--> 116\u001b[0;31m         \u001b[0mout\u001b[0m \u001b[0;34m=\u001b[0m \u001b[0;32mlambda\u001b[0m \u001b[0;34m*\u001b[0m\u001b[0margs\u001b[0m\u001b[0;34m,\u001b[0m \u001b[0;34m**\u001b[0m\u001b[0mkwargs\u001b[0m\u001b[0;34m:\u001b[0m \u001b[0mself\u001b[0m\u001b[0;34m.\u001b[0m\u001b[0mfn\u001b[0m\u001b[0;34m(\u001b[0m\u001b[0mobj\u001b[0m\u001b[0;34m,\u001b[0m \u001b[0;34m*\u001b[0m\u001b[0margs\u001b[0m\u001b[0;34m,\u001b[0m \u001b[0;34m**\u001b[0m\u001b[0mkwargs\u001b[0m\u001b[0;34m)\u001b[0m\u001b[0;34m\u001b[0m\u001b[0;34m\u001b[0m\u001b[0m\n\u001b[0m\u001b[1;32m    117\u001b[0m         \u001b[0;31m# update the docstring of the returned function\u001b[0m\u001b[0;34m\u001b[0m\u001b[0;34m\u001b[0m\u001b[0;34m\u001b[0m\u001b[0m\n\u001b[1;32m    118\u001b[0m         \u001b[0mupdate_wrapper\u001b[0m\u001b[0;34m(\u001b[0m\u001b[0mout\u001b[0m\u001b[0;34m,\u001b[0m \u001b[0mself\u001b[0m\u001b[0;34m.\u001b[0m\u001b[0mfn\u001b[0m\u001b[0;34m)\u001b[0m\u001b[0;34m\u001b[0m\u001b[0;34m\u001b[0m\u001b[0m\n",
            "\u001b[0;32m/usr/local/lib/python3.7/dist-packages/sklearn/model_selection/_search.py\u001b[0m in \u001b[0;36mpredict\u001b[0;34m(self, X)\u001b[0m\n\u001b[1;32m    475\u001b[0m         \"\"\"\n\u001b[1;32m    476\u001b[0m         \u001b[0mself\u001b[0m\u001b[0;34m.\u001b[0m\u001b[0m_check_is_fitted\u001b[0m\u001b[0;34m(\u001b[0m\u001b[0;34m'predict'\u001b[0m\u001b[0;34m)\u001b[0m\u001b[0;34m\u001b[0m\u001b[0;34m\u001b[0m\u001b[0m\n\u001b[0;32m--> 477\u001b[0;31m         \u001b[0;32mreturn\u001b[0m \u001b[0mself\u001b[0m\u001b[0;34m.\u001b[0m\u001b[0mbest_estimator_\u001b[0m\u001b[0;34m.\u001b[0m\u001b[0mpredict\u001b[0m\u001b[0;34m(\u001b[0m\u001b[0mX\u001b[0m\u001b[0;34m)\u001b[0m\u001b[0;34m\u001b[0m\u001b[0;34m\u001b[0m\u001b[0m\n\u001b[0m\u001b[1;32m    478\u001b[0m \u001b[0;34m\u001b[0m\u001b[0m\n\u001b[1;32m    479\u001b[0m     \u001b[0;34m@\u001b[0m\u001b[0mif_delegate_has_method\u001b[0m\u001b[0;34m(\u001b[0m\u001b[0mdelegate\u001b[0m\u001b[0;34m=\u001b[0m\u001b[0;34m(\u001b[0m\u001b[0;34m'best_estimator_'\u001b[0m\u001b[0;34m,\u001b[0m \u001b[0;34m'estimator'\u001b[0m\u001b[0;34m)\u001b[0m\u001b[0;34m)\u001b[0m\u001b[0;34m\u001b[0m\u001b[0;34m\u001b[0m\u001b[0m\n",
            "\u001b[0;31mAttributeError\u001b[0m: 'GridSearchCV' object has no attribute 'best_estimator_'"
          ]
        },
        {
          "output_type": "display_data",
          "data": {
            "image/png": "[encoded data removed]",
            "text/plain": [
              "<Figure size 432x288 with 1 Axes>"
            ]
          },
          "metadata": {
            "tags": [],
            "needs_background": "light"
          }
        },
        {
          "output_type": "stream",
          "text": [
            "time: 15.7 s (started: 2021-05-24 15:59:32 +00:00)\n"
          ],
          "name": "stdout"
        }
      ]
    },
    {
      "cell_type": "code",
      "metadata": {
        "id": "6md35fBRC-Hl"
      },
      "source": [
        ""
      ],
      "execution_count": null,
      "outputs": []
    },
    {
      "cell_type": "code",
      "metadata": {
        "id": "BxP8jM8nA62i"
      },
      "source": [
        "_"
      ],
      "execution_count": null,
      "outputs": []
    }
  ]
}